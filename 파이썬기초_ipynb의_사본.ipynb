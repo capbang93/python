{
  "nbformat": 4,
  "nbformat_minor": 0,
  "metadata": {
    "colab": {
      "name": "파이썬기초.ipynb의 사본",
      "provenance": [],
      "collapsed_sections": [],
      "authorship_tag": "ABX9TyMShI9PlA+2B1yLalHBfxHQ",
      "include_colab_link": true
    },
    "kernelspec": {
      "name": "python3",
      "display_name": "Python 3"
    },
    "language_info": {
      "name": "python"
    }
  },
  "cells": [
    {
      "cell_type": "markdown",
      "metadata": {
        "id": "view-in-github",
        "colab_type": "text"
      },
      "source": [
        "<a href=\"https://colab.research.google.com/github/capbang93/python/blob/main/%ED%8C%8C%EC%9D%B4%EC%8D%AC%EA%B8%B0%EC%B4%88_ipynb%EC%9D%98_%EC%82%AC%EB%B3%B8.ipynb\" target=\"_parent\"><img src=\"https://colab.research.google.com/assets/colab-badge.svg\" alt=\"Open In Colab\"/></a>"
      ]
    },
    {
      "cell_type": "markdown",
      "source": [
        "# 1.2 입력 / 출력"
      ],
      "metadata": {
        "id": "akY_KFTJRTsL"
      }
    },
    {
      "cell_type": "markdown",
      "source": [
        "1.2.1. 변수\n",
        "\n",
        "변수란 프로그래밍 언어에서 값을 저장하기 위한 공간이다. 변수의 값은 언제든지 변할 수 있는 수이다. 변수는 숫자 뿐만 아니라 문자, 리스트 등 다양한 자료형을 저장할 수 있다."
      ],
      "metadata": {
        "id": "dWibpjHURkww"
      }
    },
    {
      "cell_type": "markdown",
      "source": [
        "**[코드]**"
      ],
      "metadata": {
        "id": "kPo7Z4ozR717"
      }
    },
    {
      "cell_type": "code",
      "source": [
        "email = \"test@abc.com\"  # 문자열\n",
        "point = 23\n",
        "point = point + 10"
      ],
      "metadata": {
        "id": "_6HfCVe6RPA0"
      },
      "execution_count": null,
      "outputs": []
    },
    {
      "cell_type": "code",
      "source": [
        "a=3\n",
        "b=\"python\"\n",
        "print(a,type(a),id(a))\n",
        "print(b,type(b),id(b))"
      ],
      "metadata": {
        "id": "HAIqcbZpE26W"
      },
      "execution_count": null,
      "outputs": []
    },
    {
      "cell_type": "markdown",
      "source": [
        "1.2.2. 입력\n",
        "\n",
        "표준 입력 input() 함수를 사용한다."
      ],
      "metadata": {
        "id": "wFsyMUVOFTBQ"
      }
    },
    {
      "cell_type": "markdown",
      "source": [
        "**[코드]**"
      ],
      "metadata": {
        "id": "LTURgvcaFy1M"
      }
    },
    {
      "cell_type": "code",
      "source": [
        "score = input()\n",
        "print(score)"
      ],
      "metadata": {
        "id": "VqWi50_JFpyn"
      },
      "execution_count": null,
      "outputs": []
    },
    {
      "cell_type": "code",
      "source": [
        "score = input(\"점수: \")\n",
        "print(score+10)"
      ],
      "metadata": {
        "id": "LA7GDZqzGFur"
      },
      "execution_count": null,
      "outputs": []
    },
    {
      "cell_type": "code",
      "source": [
        "score1 = int(input(\"점수: \"))\n",
        "print(score1 + 10)\n",
        "score2 = input(\"점수: \")\n",
        "print(int(score2) + 10)"
      ],
      "metadata": {
        "id": "W93ZOr62GOV5"
      },
      "execution_count": null,
      "outputs": []
    },
    {
      "cell_type": "markdown",
      "source": [
        "1.2.3. 출력\n",
        "\n",
        "출력은 print() 함수를 이용한다."
      ],
      "metadata": {
        "id": "eCKV2cutGksf"
      }
    },
    {
      "cell_type": "markdown",
      "source": [
        "**[코드]**"
      ],
      "metadata": {
        "id": "-ZFMytFqGs0d"
      }
    },
    {
      "cell_type": "code",
      "source": [
        "print(1+2)\n",
        "print(\"1+2\")\n",
        "print('Hello')\n",
        "print(\"Hello\")\n",
        "print(\"I can't swim\")\n",
        "print('\"파이썬\" 언어')"
      ],
      "metadata": {
        "id": "ASNcfcvCGsGa"
      },
      "execution_count": null,
      "outputs": []
    },
    {
      "cell_type": "code",
      "source": [
        "name=\"홍길동\"\n",
        "age = 17\n",
        "score = 91.35\n",
        "print(\"이름:%s, 나이:%d, 점수:%f\" %(name,age,score))"
      ],
      "metadata": {
        "id": "FTb_vdhZHIgx"
      },
      "execution_count": null,
      "outputs": []
    },
    {
      "cell_type": "code",
      "source": [
        "print(\"이름:{}, 나이:{}, 점수:{}\".format(name,age,score))"
      ],
      "metadata": {
        "id": "bNh_WvBoHXUX"
      },
      "execution_count": null,
      "outputs": []
    },
    {
      "cell_type": "markdown",
      "source": [
        "1.3. 연산자\n",
        "\n",
        "연산자란 연산을 수행하는 기호를 말한다."
      ],
      "metadata": {
        "id": "vIFyKnvdHrbV"
      }
    },
    {
      "cell_type": "markdown",
      "source": [
        "1.3.1. 연산자의 종류\n",
        "\n",
        "산술연산자 : 더하기(+), 빼기(-), 곱하기(*), 나누기(/), 나누기 나머지(%), 나누기 몫(//), 제곱(**)"
      ],
      "metadata": {
        "id": "n_OfdAEZH8E8"
      }
    },
    {
      "cell_type": "markdown",
      "source": [
        "**[코드]**"
      ],
      "metadata": {
        "id": "d_avTqSCIBi6"
      }
    },
    {
      "cell_type": "code",
      "source": [
        "2+3"
      ],
      "metadata": {
        "id": "dj5kBJC4IDo6"
      },
      "execution_count": null,
      "outputs": []
    },
    {
      "cell_type": "code",
      "source": [
        "2+3*4-5"
      ],
      "metadata": {
        "id": "4a7sbaNAIXZI"
      },
      "execution_count": null,
      "outputs": []
    },
    {
      "cell_type": "code",
      "source": [
        "4/2"
      ],
      "metadata": {
        "id": "tfK-vPzqIaLP"
      },
      "execution_count": null,
      "outputs": []
    },
    {
      "cell_type": "code",
      "source": [
        "7%3"
      ],
      "metadata": {
        "id": "UjHtKrrCIbY_"
      },
      "execution_count": null,
      "outputs": []
    },
    {
      "cell_type": "code",
      "source": [
        "7//3"
      ],
      "metadata": {
        "id": "C4ngZDUKIf_f"
      },
      "execution_count": null,
      "outputs": []
    },
    {
      "cell_type": "code",
      "source": [
        "2**3"
      ],
      "metadata": {
        "id": "0K7EeTq_IvxN"
      },
      "execution_count": null,
      "outputs": []
    },
    {
      "cell_type": "markdown",
      "source": [
        "할당 연산자 : '=' 연산 기호는 오른쪽 값을 왼쪽 변수에 할당하는 연산자이다."
      ],
      "metadata": {
        "id": "W5XBRVx7I3f0"
      }
    },
    {
      "cell_type": "markdown",
      "source": [
        "**[코드]**"
      ],
      "metadata": {
        "id": "8qWJyzBzg0pj"
      }
    },
    {
      "cell_type": "code",
      "source": [
        "a = 5\n",
        "a = a + 1\n",
        "a"
      ],
      "metadata": {
        "id": "y77tgH3UI2vV"
      },
      "execution_count": null,
      "outputs": []
    },
    {
      "cell_type": "code",
      "source": [
        "a+=2\n",
        "a"
      ],
      "metadata": {
        "id": "8NR11gpHJHt4"
      },
      "execution_count": null,
      "outputs": []
    },
    {
      "cell_type": "code",
      "source": [
        "a-=4\n",
        "a"
      ],
      "metadata": {
        "id": "0qOG6gnyggf5"
      },
      "execution_count": null,
      "outputs": []
    },
    {
      "cell_type": "markdown",
      "source": [
        "비교 연산자 : 관계 연산, 조건 연산이라고도 하며, 연산의 결과는 참(True) 또는 거짓(False)으로 나타난다."
      ],
      "metadata": {
        "id": "n2uhvHPggl2G"
      }
    },
    {
      "cell_type": "markdown",
      "source": [
        "**[코드]**"
      ],
      "metadata": {
        "id": "WzhQzEe6g3Qk"
      }
    },
    {
      "cell_type": "code",
      "source": [
        "a = 10\n",
        "b = 20\n",
        "a > b"
      ],
      "metadata": {
        "id": "IAJ_NmnTgufN"
      },
      "execution_count": null,
      "outputs": []
    },
    {
      "cell_type": "code",
      "source": [
        "a < b"
      ],
      "metadata": {
        "id": "Uv94i0RshIME"
      },
      "execution_count": null,
      "outputs": []
    },
    {
      "cell_type": "code",
      "source": [
        "a == b"
      ],
      "metadata": {
        "id": "fruimzGMhOS9"
      },
      "execution_count": null,
      "outputs": []
    },
    {
      "cell_type": "code",
      "source": [
        "a != b"
      ],
      "metadata": {
        "id": "bEQpOh9khSTX"
      },
      "execution_count": null,
      "outputs": []
    },
    {
      "cell_type": "markdown",
      "source": [
        "논리 연산자 : 두 개 이상의 조건에서 사용된다. and, or, not 연산이 있다."
      ],
      "metadata": {
        "id": "tYFOjfaphY7L"
      }
    },
    {
      "cell_type": "markdown",
      "source": [
        "**[코드]**"
      ],
      "metadata": {
        "id": "GWD8lGELhh-C"
      }
    },
    {
      "cell_type": "code",
      "source": [
        "a = 5\n",
        "b = 3\n",
        "a > 2 and b > 2"
      ],
      "metadata": {
        "id": "WoODCfFThj8d"
      },
      "execution_count": null,
      "outputs": []
    },
    {
      "cell_type": "code",
      "source": [
        "a > 3 or b > 5"
      ],
      "metadata": {
        "id": "Ape9Az4Qht-T"
      },
      "execution_count": null,
      "outputs": []
    },
    {
      "cell_type": "code",
      "source": [
        "not a > b"
      ],
      "metadata": {
        "id": "CPdCCuxshv6E"
      },
      "execution_count": null,
      "outputs": []
    },
    {
      "cell_type": "markdown",
      "source": [
        "비트 연산자 : &, |, ^ 연산이 있다."
      ],
      "metadata": {
        "id": "D_XUoQS9h0Zi"
      }
    },
    {
      "cell_type": "markdown",
      "source": [
        "**[코드]**"
      ],
      "metadata": {
        "id": "bLarnUe-iAMc"
      }
    },
    {
      "cell_type": "code",
      "source": [
        "a = 13  # 1101\n",
        "b = 10  # 1010\n",
        "a & b   # 1000\n"
      ],
      "metadata": {
        "id": "jvIMpvB2h_Dc"
      },
      "execution_count": null,
      "outputs": []
    },
    {
      "cell_type": "code",
      "source": [
        "a | b # 1111"
      ],
      "metadata": {
        "id": "DFCFc86ciMlP"
      },
      "execution_count": null,
      "outputs": []
    },
    {
      "cell_type": "code",
      "source": [
        "a ^ b # 0111"
      ],
      "metadata": {
        "id": "WA0e_BTFisJn"
      },
      "execution_count": null,
      "outputs": []
    },
    {
      "cell_type": "markdown",
      "source": [
        "# 2. 제어문"
      ],
      "metadata": {
        "id": "p_GvnSjJi98G"
      }
    },
    {
      "cell_type": "markdown",
      "source": [
        "2.1. 조건문"
      ],
      "metadata": {
        "id": "ZAfpEP7ujBdj"
      }
    },
    {
      "cell_type": "markdown",
      "source": [
        "2.1.1. 단일 if\n",
        "\n",
        "파이썬에서 사용하는 조건문 if는 들여쓰기를 사용한다."
      ],
      "metadata": {
        "id": "spr7ivuLjN8O"
      }
    },
    {
      "cell_type": "markdown",
      "source": [
        "**코드**"
      ],
      "metadata": {
        "id": "YRNQ1I-kjUl0"
      }
    },
    {
      "cell_type": "code",
      "source": [
        "score = int(input())\n",
        "if score >= 80:\n",
        "  print(\"pass\")"
      ],
      "metadata": {
        "id": "pTusn343jTfE"
      },
      "execution_count": null,
      "outputs": []
    },
    {
      "cell_type": "code",
      "source": [
        "score = int(input())\n",
        "if score >=80:\n",
        "  print(\"pass\")\n",
        "if score <80:\n",
        "  print(\"fail\")"
      ],
      "metadata": {
        "id": "Y2vCGVdojn1o"
      },
      "execution_count": null,
      "outputs": []
    },
    {
      "cell_type": "markdown",
      "source": [
        "2.1.2. if ~ else\n",
        "\n",
        "조건식이 참과 거짓에 따라 조건문을 작성할 때에는 if ~ else 를 사용할 수 있다."
      ],
      "metadata": {
        "id": "Sa2mf3mMj3IM"
      }
    },
    {
      "cell_type": "markdown",
      "source": [
        "**코드**"
      ],
      "metadata": {
        "id": "DJrJAsHkkjiD"
      }
    },
    {
      "cell_type": "code",
      "source": [
        "score = int(input())\n",
        "if score >=80:\n",
        "  print(\"pass\")\n",
        "else:\n",
        "  print(\"fail\")"
      ],
      "metadata": {
        "id": "NSLyVjaHj_aJ"
      },
      "execution_count": null,
      "outputs": []
    },
    {
      "cell_type": "markdown",
      "source": [
        "2.1.3. if ~ elif ~ else\n",
        "\n",
        "조건식이 여러 개인 경우 중첩 if 대신 if ~ elif ~ else 를 사용한다."
      ],
      "metadata": {
        "id": "qPYgezRxkP1Q"
      }
    },
    {
      "cell_type": "markdown",
      "source": [
        "**코드**"
      ],
      "metadata": {
        "id": "X-afMCh2koiD"
      }
    },
    {
      "cell_type": "code",
      "source": [
        "score = int(input())\n",
        "if score >= 90:\n",
        "  print(\"A\")\n",
        "elif score >=80:\n",
        "  print(\"B\")\n",
        "elif score >=70:\n",
        "  print(\"C\")\n",
        "elif score >=60:\n",
        "  print(\"D\")\n",
        "else:\n",
        "  print(\"F\")"
      ],
      "metadata": {
        "id": "QWPdgKxKkY_1"
      },
      "execution_count": null,
      "outputs": []
    },
    {
      "cell_type": "markdown",
      "source": [
        "2.2. 반복문\n",
        "\n",
        "반복문은 while, for 문이 있다.\n",
        " - while 은 조건이 참인 동안 실행한다.\n",
        " - for 는 지정한 범위 내에서 반복 실행한다. "
      ],
      "metadata": {
        "id": "YgevPsTSlOyg"
      }
    },
    {
      "cell_type": "markdown",
      "source": [
        "**코드**"
      ],
      "metadata": {
        "id": "GD2e_ywMlkZ3"
      }
    },
    {
      "cell_type": "code",
      "source": [
        "n = 1\n",
        "while n<=5:\n",
        "  print(n)\n",
        "  n=n+1"
      ],
      "metadata": {
        "id": "mjpS8c4TljwQ"
      },
      "execution_count": null,
      "outputs": []
    },
    {
      "cell_type": "code",
      "source": [
        "for a in range(1,6):\n",
        "  print(a,end=' ')"
      ],
      "metadata": {
        "id": "HQ9MPmIDl4Ch"
      },
      "execution_count": null,
      "outputs": []
    },
    {
      "cell_type": "code",
      "source": [
        "for a in [1,2,3,4,5]:\n",
        "  print(a, end=' ')"
      ],
      "metadata": {
        "id": "icDSyBWvmXaf"
      },
      "execution_count": null,
      "outputs": []
    },
    {
      "cell_type": "code",
      "source": [
        "for a in range(1,11):\n",
        "  if a%2==1:         # 1부터 10 에서 홀수만 출력\n",
        "    print(a, end= ' ')"
      ],
      "metadata": {
        "id": "-Wvj59R1mkc4"
      },
      "execution_count": null,
      "outputs": []
    },
    {
      "cell_type": "code",
      "source": [
        "# 중첩 반복문\n",
        "a = 2\n",
        "b = 1\n",
        "while a<=9:\n",
        "  while b<=9:\n",
        "    print(f\"{a}*{b}={a*b}\")\n",
        "    b+=1\n",
        "  a+=1\n",
        "  b=1"
      ],
      "metadata": {
        "id": "SVxZVm1Fm-lj"
      },
      "execution_count": null,
      "outputs": []
    },
    {
      "cell_type": "code",
      "source": [
        "for a in range(2,10):\n",
        "  for b in range(1,10):\n",
        "    print(f\"{a}*{b}={a*b}\")"
      ],
      "metadata": {
        "id": "LFSWYf4Wnz_m"
      },
      "execution_count": null,
      "outputs": []
    },
    {
      "cell_type": "markdown",
      "source": [
        "**응용문제**\n",
        "\n",
        "곱하기 연산 문제를 제시하는 퀴즈 프로그램을 제작하시오. 난수(임의의 수)를 사용하여 곱하기 문제를 출제하며, 난수 사용법은 다음과 같다."
      ],
      "metadata": {
        "id": "854aaQGwossK"
      }
    },
    {
      "cell_type": "code",
      "source": [
        "import random\n",
        "a = random.random()\n",
        "b = random.randint(10,20)\n",
        "print(a,b)"
      ],
      "metadata": {
        "colab": {
          "base_uri": "https://localhost:8080/"
        },
        "id": "mWuJ-S_loyfP",
        "outputId": "19570e99-eef4-4f2b-cf72-1ca43e0f0e84"
      },
      "execution_count": null,
      "outputs": [
        {
          "output_type": "stream",
          "name": "stdout",
          "text": [
            "0.15947303368863708 19\n"
          ]
        }
      ]
    },
    {
      "cell_type": "markdown",
      "source": [
        "**응용문제 코드**"
      ],
      "metadata": {
        "id": "HHSKoo4DpSCo"
      }
    },
    {
      "cell_type": "code",
      "source": [
        "import random\n",
        "good, wrong = 0,0\n",
        "for n in range(1,11):\n",
        "  a = random.randint(1,9)\n",
        "  b = random.randint(1,9)\n",
        "  quiz = f\"문제{n}. {a}*{b}=\"\n",
        "  answer = int(input(quiz))\n",
        "  if answer == a*b:\n",
        "    print(\"정답입니다.\")\n",
        "    good+=1\n",
        "  else:\n",
        "    print(\"오답입니다.\")\n",
        "    wrong+=1\n",
        "  print(f\"정답({good}), 오답({wrong})\\n\")"
      ],
      "metadata": {
        "id": "qQ6zTEZJpYCZ"
      },
      "execution_count": null,
      "outputs": []
    },
    {
      "cell_type": "markdown",
      "source": [
        "# 3. 자료형"
      ],
      "metadata": {
        "id": "ur4Vk_4tqdi_"
      }
    },
    {
      "cell_type": "markdown",
      "source": [
        "3.1 리스트(List)\n",
        "\n",
        "여러 개의 값을 저장하는 변수형이다. 배열이라고도 한다."
      ],
      "metadata": {
        "id": "7RFcKWa3qgcN"
      }
    },
    {
      "cell_type": "markdown",
      "source": [
        "**코드**"
      ],
      "metadata": {
        "id": "cwR6gv-Zqq54"
      }
    },
    {
      "cell_type": "code",
      "source": [
        "a = [90,92,84,88,74]\n",
        "b = list((90,92,84,88,74))\n",
        "c = [\"파이썬\",900,30.5,\"자바\",850,78.75]\n",
        "d = list((\"파이썬\",900,30.5,\"자바\",850,78.75))\n",
        "e = list(\"프로그래밍\")\n",
        "print(a,b,c,d,e,sep='\\n')"
      ],
      "metadata": {
        "colab": {
          "base_uri": "https://localhost:8080/"
        },
        "id": "xv8udtxeqsHY",
        "outputId": "9cbab149-0e3f-432f-b422-ec6e302add8d"
      },
      "execution_count": null,
      "outputs": [
        {
          "output_type": "stream",
          "name": "stdout",
          "text": [
            "[90, 92, 84, 88, 74]\n",
            "[90, 92, 84, 88, 74]\n",
            "['파이썬', 900, 30.5, '자바', 850, 78.75]\n",
            "['파이썬', 900, 30.5, '자바', 850, 78.75]\n",
            "['프', '로', '그', '래', '밍']\n"
          ]
        }
      ]
    },
    {
      "cell_type": "markdown",
      "source": [
        "3.1.1. 리스트 항목 다루기(인덱스, 슬라이싱)\n",
        "\n",
        "리스트에 값을 사용하기 위해서는 인덱스를 이용한다.\n",
        "\n",
        "슬라이싱을 통해 특정 인덱스 위치의 값을 추출할 수 있다."
      ],
      "metadata": {
        "id": "Oh9KyDfPrT_4"
      }
    },
    {
      "cell_type": "markdown",
      "source": [
        "**코드**"
      ],
      "metadata": {
        "id": "XfvvJ5AZtIZn"
      }
    },
    {
      "cell_type": "code",
      "source": [
        "a = [90,91,92,93,94,95,96]\n",
        "print(a[0])"
      ],
      "metadata": {
        "id": "nmfE2_U4rnb1"
      },
      "execution_count": null,
      "outputs": []
    },
    {
      "cell_type": "code",
      "source": [
        "print(\"a[0:3]\", a[0:3], sep='->')\n",
        "print(\"a[3:5]\",a[3:5],sep='->')\n",
        "print(\"a[0:]\",a[0:],sep='->')\n",
        "print(\"a[3:]\",a[3:],sep='->')\n",
        "print(\"a[:]\",a[:],sep='->')\n",
        "print(\"a[1:5:2]\",a[1:5:2],sep='->')\n",
        "print(\"a[::2]\",a[::2],sep='->')\n",
        "print(\"a[1::2]\",a[1::2],sep='->')\n",
        "print(\"a[-4:-2]\",a[-4:-2],sep='->')\n",
        "print(\"a[-4:]\",a[-4:],sep='->')\n",
        "print(\"a[5:100]\",a[5:100],sep='->')\n",
        "print(\"a[100]\",a[100],sep='->')"
      ],
      "metadata": {
        "id": "0neKeby2ru9P"
      },
      "execution_count": null,
      "outputs": []
    },
    {
      "cell_type": "code",
      "source": [
        "ct = '프로그래밍'\n",
        "print(ct[1],ct[-1])"
      ],
      "metadata": {
        "id": "jD2WsiP1s9ph"
      },
      "execution_count": null,
      "outputs": []
    },
    {
      "cell_type": "markdown",
      "source": [
        "3.1.2. 리스트 항목 수정\n",
        "\n",
        "인덱스를 표시하고 내용을 입력하여 수정한다."
      ],
      "metadata": {
        "id": "I6dspoGstDxq"
      }
    },
    {
      "cell_type": "markdown",
      "source": [
        "**코드**"
      ],
      "metadata": {
        "id": "JHWNtzHZtfor"
      }
    },
    {
      "cell_type": "code",
      "source": [
        "prog = [\"C\",\"PYTHON\",\"JAVA\",\"GO\"]\n",
        "prog[0]=\"C++\"\n",
        "print(prog)"
      ],
      "metadata": {
        "id": "f965-dcnthER"
      },
      "execution_count": null,
      "outputs": []
    },
    {
      "cell_type": "code",
      "source": [
        "# 리스트 복사1\n",
        "prog = [\"C\",\"PYTHON\",\"JAVA\",\"GO\"]\n",
        "myprog = prog    # 얕은 복사\n",
        "print(\"prog:\",prog)\n",
        "print(\"myprog:\",myprog)\n",
        "prog[0]=\"C++\"\n",
        "print(\"prog:\",prog)\n",
        "print(\"myprog:\",myprog)"
      ],
      "metadata": {
        "id": "iogYChMuuAZ7"
      },
      "execution_count": null,
      "outputs": []
    },
    {
      "cell_type": "code",
      "source": [
        "# 리스트 복사2\n",
        "prog = [\"C\",\"PYTHON\",\"JAVA\",\"GO\"]\n",
        "myprog = prog[:]  # 깊은 복사\n",
        "print(\"prog:\",prog)\n",
        "print(\"myprog:\",myprog)\n",
        "prog[0]=\"C++\"\n",
        "print(\"prog:\",prog)\n",
        "print(\"myprog:\",myprog)"
      ],
      "metadata": {
        "id": "euqlj2S0uOwS"
      },
      "execution_count": null,
      "outputs": []
    },
    {
      "cell_type": "markdown",
      "source": [
        "3.1.3. 리스트 연산\n",
        "\n",
        "리스트 자료형도 몇 개의 연산을 지원한다. 함수를 사용하지 않은 연산을 살펴본다."
      ],
      "metadata": {
        "id": "ezm48Fakp1Sc"
      }
    },
    {
      "cell_type": "markdown",
      "source": [
        "**코드**"
      ],
      "metadata": {
        "id": "2LvJLlRjp-Bc"
      }
    },
    {
      "cell_type": "code",
      "source": [
        "prog = [\"C\",\"PYTHON\", \"JAVA\", \"GO\"]\n",
        "webp = [\"PHP\",\"JSP\",\"ASP.NET\"]\n",
        "myprog = prog+webp\n",
        "prog[0] = \"D\"\n",
        "print(\"prog:\",prog)\n",
        "print(\"myprog:\",myprog)"
      ],
      "metadata": {
        "id": "C12mF82up9YT"
      },
      "execution_count": null,
      "outputs": []
    },
    {
      "cell_type": "code",
      "source": [
        "prog = [\"C\",\"PYTHON\", \"JAVA\", \"GO\"]\n",
        "myprog = prog+\"HTML\"\n",
        "print(myprog)"
      ],
      "metadata": {
        "id": "EPmlcPBsqY1k"
      },
      "execution_count": null,
      "outputs": []
    },
    {
      "cell_type": "code",
      "source": [
        "prog = [\"C\",\"PYTHON\", \"JAVA\", \"GO\"]\n",
        "myprog = prog+[\"HTML\"]\n",
        "print(myprog)"
      ],
      "metadata": {
        "id": "SKkhcK6ZrIxT"
      },
      "execution_count": null,
      "outputs": []
    },
    {
      "cell_type": "code",
      "source": [
        "# 리스트 항목 값 반복 곱 연산\n",
        "prog = [\"C\",\"PYTHON\", \"JAVA\"]\n",
        "data=[1,2,3]\n",
        "print(prog*2)\n",
        "print(data*3)"
      ],
      "metadata": {
        "id": "z5Namdo8rOgD"
      },
      "execution_count": null,
      "outputs": []
    },
    {
      "cell_type": "markdown",
      "source": [
        "3.1.4. 리스트 메서드(Method)\n",
        "\n",
        "1) 위치 : index\n",
        "- 리스트에서 특정 값의 위치를 반환한다.\n",
        "\n",
        "**코드**"
      ],
      "metadata": {
        "id": "LjMkW8j1rtXj"
      }
    },
    {
      "cell_type": "code",
      "source": [
        "prog = [\"WEB\",\"OA\",\"Multi\",\"OA\"]\n",
        "print(prog.index(\"OA\"))"
      ],
      "metadata": {
        "id": "Vj3ee3f1r8Qz"
      },
      "execution_count": null,
      "outputs": []
    },
    {
      "cell_type": "code",
      "source": [
        "prog = [\"WEB\",\"OA\",\"Multi\",\"OA\"]\n",
        "print(prog.index(\"python\"))"
      ],
      "metadata": {
        "id": "fY7ePM7usHYL"
      },
      "execution_count": null,
      "outputs": []
    },
    {
      "cell_type": "code",
      "source": [
        "prog = [\"WEB\",\"OA\",\"Multi\",\"OA\"]\n",
        "print(prog.index(\"oa\"))"
      ],
      "metadata": {
        "id": "2R96nCHjsNjT"
      },
      "execution_count": null,
      "outputs": []
    },
    {
      "cell_type": "markdown",
      "source": [
        "2) 추가 : append, extend, insert\n",
        "\n",
        " - append() : 리스트 마지막에 값 추가 (모든 자료형 추가 가능)\n",
        " - extend() : 리스트 마지막에 값 추가 (두 리스트를 하나로 합침)\n",
        " - insert(위치, 값) : 리스트의 위치 번째에 값을 삽입\n",
        " \n",
        "**코드**"
      ],
      "metadata": {
        "id": "bqi-W8gv92Hi"
      }
    },
    {
      "cell_type": "code",
      "source": [
        "# append()\n",
        "a = [1,2,3,4]\n",
        "b = [\"WEB\",\"OA\",\"Multi\"]\n",
        "a.append(5)\n",
        "print(a)\n",
        "a.append(\"python\")\n",
        "print(a)\n",
        "a.append([6,7])\n",
        "print(a)\n",
        "a.append(b)\n",
        "print(a)"
      ],
      "metadata": {
        "id": "RblLtWvN-SN6"
      },
      "execution_count": null,
      "outputs": []
    },
    {
      "cell_type": "code",
      "source": [
        "#extend()\n",
        "a=[1,2,3,4]\n",
        "b=[\"WEB\",\"OA\",\"Multi\"]\n",
        "a.extend(b)\n",
        "print(a)"
      ],
      "metadata": {
        "id": "Pt-xncUp_rwy"
      },
      "execution_count": null,
      "outputs": []
    },
    {
      "cell_type": "code",
      "source": [
        "#extend()\n",
        "a=[1,2,3,4]\n",
        "b=[\"WEB\",\"OA\",\"Multi\"]\n",
        "c=(\"a\",\"b\",\"c\")  # tuple\n",
        "a.extend(5)\n",
        "print(a)\n",
        "a.extend(b)\n",
        "print(a)\n",
        "a.extend(c)\n",
        "print(a)"
      ],
      "metadata": {
        "id": "PVr6sY7MAEwS"
      },
      "execution_count": null,
      "outputs": []
    },
    {
      "cell_type": "code",
      "source": [
        "#insert()\n",
        "a=[1,2,3,4]\n",
        "a.insert(2,5)\n",
        "print(a)"
      ],
      "metadata": {
        "colab": {
          "base_uri": "https://localhost:8080/"
        },
        "id": "qvtEDIcnAwd6",
        "outputId": "c1c5d0cb-a432-4d46-fc26-fc13d3a0e1f4"
      },
      "execution_count": null,
      "outputs": [
        {
          "output_type": "stream",
          "name": "stdout",
          "text": [
            "[1, 2, 5, 3, 4]\n"
          ]
        }
      ]
    },
    {
      "cell_type": "code",
      "source": [
        "# 리스트 a 에서 \"OA\" 다음에 \"Excel\" 추가해보자\n",
        "a=[\"WEB\",\"OA\",\"Multi\",\"RUBY\"]\n",
        "a.insert(a.index(\"OA\")+1,\"Excel\")\n",
        "print(a)"
      ],
      "metadata": {
        "id": "8P6NGaMTBDup"
      },
      "execution_count": null,
      "outputs": []
    },
    {
      "cell_type": "markdown",
      "source": [
        "4) 삭제 : del, pop, remove\n",
        " - del 리스트[인덱스] : 리스트내 해당하는 인덱스 값을 삭제한다. (del은 명령어)\n",
        " - pop() : 리스트내 마지막 값을 삭제한다.\n",
        " - pop(인덱스) : 리스트에 해당하는 인덱스 값을 삭제한다.\n",
        " - remove(값) : 리스트 내 항목 값으로 삭제할 경우\n",
        "\n",
        "**코드**"
      ],
      "metadata": {
        "id": "v5WBVkjCBeRA"
      }
    },
    {
      "cell_type": "code",
      "source": [
        "a = [\"WEB\",\"OA\",\"Multi\",\"RUBY\"]\n",
        "print(a)\n",
        "del a[1]\n",
        "print(a)"
      ],
      "metadata": {
        "id": "ei_Bol_QB_mz"
      },
      "execution_count": null,
      "outputs": []
    },
    {
      "cell_type": "code",
      "source": [
        "a = [\"WEB\",\"OA\",\"Multi\",\"RUBY\"]\n",
        "print(a)\n",
        "del a      # a 를 삭제\n",
        "print(a)"
      ],
      "metadata": {
        "id": "D06eaPHaCI45"
      },
      "execution_count": null,
      "outputs": []
    },
    {
      "cell_type": "code",
      "source": [
        "# pop()\n",
        "a=[\"WEB\",\"OA\",\"Multi\",\"RUBY\"]\n",
        "a.pop()\n",
        "print(a)\n",
        "b=a.pop(1)\n",
        "print(b,a)"
      ],
      "metadata": {
        "id": "EMyz8Uh7CV8x"
      },
      "execution_count": null,
      "outputs": []
    },
    {
      "cell_type": "code",
      "source": [
        "#remove()\n",
        "a=[\"WEB\",\"OA\",\"Multi\",\"RUBY\",\"OA\"]\n",
        "a.remove(\"OA\")\n",
        "print(a)"
      ],
      "metadata": {
        "colab": {
          "base_uri": "https://localhost:8080/"
        },
        "id": "-qbrtDCGFhlJ",
        "outputId": "793bceed-8b5b-401b-e973-edd1dc403b65"
      },
      "execution_count": null,
      "outputs": [
        {
          "output_type": "stream",
          "name": "stdout",
          "text": [
            "['WEB', 'Multi', 'RUBY', 'OA']\n"
          ]
        }
      ]
    },
    {
      "cell_type": "markdown",
      "source": [
        "5) 개수 : count\n",
        "\n",
        "리스트내 특정 값의 개수를 반환한다.\n",
        "\n",
        "**코드**"
      ],
      "metadata": {
        "id": "xVsdfZ5IFty5"
      }
    },
    {
      "cell_type": "code",
      "source": [
        "a = [\"WEB\",\"OA\",\"Multi\",\"OA\"]\n",
        "print(a.count(\"OA\"))"
      ],
      "metadata": {
        "id": "v9cm9WhUF1Fw"
      },
      "execution_count": null,
      "outputs": []
    },
    {
      "cell_type": "code",
      "source": [
        "a = [\"WEB\",\"OA\",\"Multi\",\"RUBY\"]\n",
        "if a.count(\"python\"):\n",
        "  a.remove(\"python\")\n",
        "  print(a)\n",
        "else:\n",
        "  print(\"삭제할 것이 없습니다.\")"
      ],
      "metadata": {
        "colab": {
          "base_uri": "https://localhost:8080/"
        },
        "id": "cVDEi2iHGAH5",
        "outputId": "09620ceb-f009-405c-aae4-11965b469189"
      },
      "execution_count": null,
      "outputs": [
        {
          "output_type": "stream",
          "name": "stdout",
          "text": [
            "삭제할 것이 없습니다.\n"
          ]
        }
      ]
    },
    {
      "cell_type": "code",
      "source": [
        "# in\n",
        "a = [\"WEB\",\"OA\",\"Multi\",\"RUBY\"]\n",
        "if \"python\" in a:\n",
        "  a.remove(\"python\")\n",
        "  print(a)\n",
        "else:\n",
        "  print(\"삭제할 것이 없습니다.\")"
      ],
      "metadata": {
        "id": "nCINdip8GWSg"
      },
      "execution_count": null,
      "outputs": []
    },
    {
      "cell_type": "markdown",
      "source": [
        "6) 정렬 : sort, reverse\n",
        "\n",
        " - sort() : 오름차순으로 정렬\n",
        " - reverse() : 역순으로 정렬\n",
        "\n",
        "**코드**"
      ],
      "metadata": {
        "id": "H3ZwCDyQGd-R"
      }
    },
    {
      "cell_type": "code",
      "source": [
        "#오름차순 정렬\n",
        "a=[7,9,5,1,4,8,3,2,6]\n",
        "a.sort()\n",
        "print(a)"
      ],
      "metadata": {
        "colab": {
          "base_uri": "https://localhost:8080/"
        },
        "id": "XJRszIj5Go8B",
        "outputId": "ce6a5e5e-9d5c-488f-fbb7-f2dcc13e808a"
      },
      "execution_count": null,
      "outputs": [
        {
          "output_type": "stream",
          "name": "stdout",
          "text": [
            "[1, 2, 3, 4, 5, 6, 7, 8, 9]\n"
          ]
        }
      ]
    },
    {
      "cell_type": "code",
      "source": [
        "#내림차순 정렬\n",
        "a=[7,9,5,1,4,8,3,2,6]\n",
        "a.sort()\n",
        "a.reverse()\n",
        "print(a)"
      ],
      "metadata": {
        "colab": {
          "base_uri": "https://localhost:8080/"
        },
        "id": "NDd1ehKlGx5Q",
        "outputId": "acb41a81-6b15-482e-a0db-d25306d831ec"
      },
      "execution_count": null,
      "outputs": [
        {
          "output_type": "stream",
          "name": "stdout",
          "text": [
            "[9, 8, 7, 6, 5, 4, 3, 2, 1]\n"
          ]
        }
      ]
    },
    {
      "cell_type": "code",
      "source": [
        "#내림차순 정렬\n",
        "a=[7,9,5,1,4,8,3,2,6]\n",
        "a.sort(reverse=True)\n",
        "print(a)"
      ],
      "metadata": {
        "colab": {
          "base_uri": "https://localhost:8080/"
        },
        "id": "69dktmPqG9oo",
        "outputId": "437bb0dc-e3e5-4d0b-8e90-c5b0329652d5"
      },
      "execution_count": null,
      "outputs": [
        {
          "output_type": "stream",
          "name": "stdout",
          "text": [
            "[9, 8, 7, 6, 5, 4, 3, 2, 1]\n"
          ]
        }
      ]
    },
    {
      "cell_type": "markdown",
      "source": [
        "7) 사본 정렬 : sorted\n",
        "\n",
        "리스트 원본을 보존하고 정렬한다.\n",
        "\n",
        "**코드**"
      ],
      "metadata": {
        "id": "X2VtbDmLHk0w"
      }
    },
    {
      "cell_type": "code",
      "source": [
        "# 사본을 이용한 오름차순 정렬\n",
        "a=[7,9,5,1,4,8,3,2,6]\n",
        "b=sorted(a)\n",
        "print(a)\n",
        "print(b)"
      ],
      "metadata": {
        "id": "amTAfPjcHLBO"
      },
      "execution_count": null,
      "outputs": []
    },
    {
      "cell_type": "code",
      "source": [
        "# 사본을 이용한 내림차순 정렬\n",
        "a=[7,9,5,1,4,8,3,2,6]\n",
        "b=sorted(a,reverse=True)\n",
        "print(a)\n",
        "print(b)"
      ],
      "metadata": {
        "id": "lRRfeaJYHTgA"
      },
      "execution_count": null,
      "outputs": []
    },
    {
      "cell_type": "markdown",
      "source": [
        "8) 길이 : len\n",
        "\n",
        "리스트 요소의 개수를 구한다.\n",
        "\n",
        "**코드**"
      ],
      "metadata": {
        "id": "YbHLDQnoHgio"
      }
    },
    {
      "cell_type": "code",
      "source": [
        "prog=[\"C\",\"PYTHON\",\"JAVA\",\"GO\"]\n",
        "print(len(prog))"
      ],
      "metadata": {
        "id": "diamt_O7H6FQ"
      },
      "execution_count": null,
      "outputs": []
    },
    {
      "cell_type": "markdown",
      "source": [
        "3.1.5. 리스트 반복문\n",
        "\n",
        "len()을 사용하여 리스트 내에 항목 개수를 구하고 해당 숫자만큼 반복한다.\n",
        "\n",
        "**코드**"
      ],
      "metadata": {
        "id": "u3S41xMCINvZ"
      }
    },
    {
      "cell_type": "code",
      "source": [
        "data = [\"cpu\",\"ram\",\"vga\",\"ssd\",\"dvd\"]\n",
        "for a in range(len(data)):\n",
        "  print(data[a])"
      ],
      "metadata": {
        "id": "anwQ7l-EIVr4"
      },
      "execution_count": null,
      "outputs": []
    },
    {
      "cell_type": "code",
      "source": [
        "data = [\"cpu\",\"ram\",\"vga\",\"ssd\",\"dvd\"]\n",
        "for a in data:\n",
        "  print(a)"
      ],
      "metadata": {
        "id": "ZBbxyYEcIlWQ"
      },
      "execution_count": null,
      "outputs": []
    },
    {
      "cell_type": "code",
      "source": [
        "data = [\"cpu\",\"ram\",\"vga\",\"ssd\",\"dvd\"]\n",
        "print(\"\\n\".join(data))  # 문자 리스트를 문자열로 합침. 이 때 문자들 사이에 \"\\n\" 삽입한다."
      ],
      "metadata": {
        "id": "kw7uGxrHItRK"
      },
      "execution_count": null,
      "outputs": []
    },
    {
      "cell_type": "code",
      "source": [
        "data=[1,2,3,4,5]\n",
        "l = list(map(str,data))  # 리스트 내 값을 str() 함수를 이용하여 문자열로 변환 후 list 로 변환\n",
        "print(\"\\n\".join(l))"
      ],
      "metadata": {
        "id": "r2mPRcQDJ2-R"
      },
      "execution_count": null,
      "outputs": []
    },
    {
      "cell_type": "code",
      "source": [
        "data=[1,2,3,4,5]\n",
        "a1, a2, a3, a4, a5 = map(str,data)  # 리스트 내 값을 str() 함수를 이용하여 문자열로 변환\n",
        "print(a1,a2,a3,a4,a5, type(a1))"
      ],
      "metadata": {
        "id": "IGjL6zxiKYzo"
      },
      "execution_count": null,
      "outputs": []
    },
    {
      "cell_type": "code",
      "source": [
        "import random\n",
        "data=[]\n",
        "for a in range(10):\n",
        "  data.append(random.randint(10,99))\n",
        "print(data)"
      ],
      "metadata": {
        "id": "KFUkYR2lK104"
      },
      "execution_count": null,
      "outputs": []
    },
    {
      "cell_type": "code",
      "source": [
        "import random\n",
        "data1=[random.randint(10,99) for a in range(10)]\n",
        "data2=list(random.randint(10,99) for a in range(10))\n",
        "print(data1)\n",
        "print(data2)"
      ],
      "metadata": {
        "colab": {
          "base_uri": "https://localhost:8080/"
        },
        "id": "mUP0ig8XLCJw",
        "outputId": "27d782a9-0313-4e71-d8a2-60edcf604b81"
      },
      "execution_count": null,
      "outputs": [
        {
          "output_type": "stream",
          "name": "stdout",
          "text": [
            "[35, 76, 76, 60, 32, 28, 75, 71, 89, 33]\n",
            "[79, 36, 50, 46, 30, 51, 83, 89, 56, 51]\n"
          ]
        }
      ]
    },
    {
      "cell_type": "code",
      "source": [
        "data=[1,2,3,4,5]\n",
        "data2=[a*a for a in data]\n",
        "print(data2)"
      ],
      "metadata": {
        "colab": {
          "base_uri": "https://localhost:8080/"
        },
        "id": "xbUg3eIaLQiQ",
        "outputId": "7ed13444-cb75-416d-912f-744f0fde723d"
      },
      "execution_count": null,
      "outputs": [
        {
          "output_type": "stream",
          "name": "stdout",
          "text": [
            "[1, 4, 9, 16, 25]\n"
          ]
        }
      ]
    },
    {
      "cell_type": "markdown",
      "source": [
        "3.1.6. 이차원 리스트\n",
        "\n",
        "리스트 안에 리스트나 튜플이 여러 개 있을 때 사용한다.\n",
        "\n",
        "**코드**"
      ],
      "metadata": {
        "id": "IJfAVT_nLXqp"
      }
    },
    {
      "cell_type": "code",
      "source": [
        "a=[[1,2,3],[\"a\",\"b\"],(10,20,30)]\n",
        "print(a[0],a[0][1])\n",
        "print(a[1][1])\n",
        "print(a[2][1])"
      ],
      "metadata": {
        "colab": {
          "base_uri": "https://localhost:8080/"
        },
        "id": "1OFBOnGALd6w",
        "outputId": "4598fae6-85f6-4444-dfc3-37ffe1696d7b"
      },
      "execution_count": null,
      "outputs": [
        {
          "output_type": "stream",
          "name": "stdout",
          "text": [
            "[1, 2, 3] 2\n",
            "b\n",
            "20\n"
          ]
        }
      ]
    },
    {
      "cell_type": "code",
      "source": [
        "data=[[10101,\"김창준\",\"robert@abc.com\",34],\n",
        "[10305,\"심재호\",\"jhsim@abc.com\",23],\n",
        "[10515,\"김은희\",\"ehkim@xyz.com\",15],\n",
        "[10823,\"박지현\",\"jhpark@xyz.com\",25]]\n",
        "print(data)\n"
      ],
      "metadata": {
        "id": "joS0BnDfLzGi"
      },
      "execution_count": null,
      "outputs": []
    },
    {
      "cell_type": "code",
      "source": [
        "#이름, 이메일 출력 : ranage 이용\n",
        "for a in range(len(data)):\n",
        "  print(data[a][1],data[a][2])"
      ],
      "metadata": {
        "id": "MzzjuNqJOQ8I"
      },
      "execution_count": null,
      "outputs": []
    },
    {
      "cell_type": "code",
      "source": [
        "# 이름,이메일 출력 : 리스트 요소 이용\n",
        "for a in data:\n",
        "  print(a[1],a[2])"
      ],
      "metadata": {
        "id": "3QhsZpFNOanY"
      },
      "execution_count": null,
      "outputs": []
    },
    {
      "cell_type": "markdown",
      "source": [
        "3.2. 튜플(Tuple)\n",
        "\n",
        "3.2.1. 튜플\n",
        "\n",
        "리스트와 유사하나 튜플은 소괄호(())를 사용하며 항목 수정이 불가능하다.\n",
        "\n",
        "**코드**\n"
      ],
      "metadata": {
        "id": "KrS4H1uFOymp"
      }
    },
    {
      "cell_type": "code",
      "source": [
        "a=(5,3,1,4,2)\n",
        "b=tuple((5,3,1,4,2))\n",
        "c=(\"python\",500,3,14)\n",
        "d=([1,3,2],(10,30,20),\"java\",\"C++\")\n",
        "print(type(a),type(b),type(c),type(d))\n",
        "print(a)\n",
        "print(b)\n",
        "print(c)\n",
        "print(d)"
      ],
      "metadata": {
        "colab": {
          "base_uri": "https://localhost:8080/"
        },
        "id": "Bpoyui5lPMRg",
        "outputId": "15b576c2-695b-4eff-bc7b-190027a5f241"
      },
      "execution_count": null,
      "outputs": [
        {
          "output_type": "stream",
          "name": "stdout",
          "text": [
            "<class 'tuple'> <class 'tuple'> <class 'tuple'> <class 'tuple'>\n",
            "(5, 3, 1, 4, 2)\n",
            "(5, 3, 1, 4, 2)\n",
            "('python', 500, 3, 14)\n",
            "([1, 3, 2], (10, 30, 20), 'java', 'C++')\n"
          ]
        }
      ]
    },
    {
      "cell_type": "code",
      "source": [
        "# 항목이 하나인 경우 다음은 튜플이 아닌 리스트, 일반 자료형을 갖는다.\n",
        "a=([5])\n",
        "b=(5)\n",
        "c=(\"python\")\n",
        "print(type(a),type(b),type(c))"
      ],
      "metadata": {
        "colab": {
          "base_uri": "https://localhost:8080/"
        },
        "id": "W7fQOlGjQHA3",
        "outputId": "f296fdee-c4c1-4638-ba84-351fb545f898"
      },
      "execution_count": null,
      "outputs": [
        {
          "output_type": "stream",
          "name": "stdout",
          "text": [
            "<class 'list'> <class 'int'> <class 'str'>\n"
          ]
        }
      ]
    },
    {
      "cell_type": "code",
      "source": [
        "# 항목이 하나인 경우 튜플로 선언하는 방법\n",
        "a=([5],)\n",
        "b=(5,)\n",
        "c=(\"python\",)\n",
        "print(type(a),type(b),type(c))"
      ],
      "metadata": {
        "colab": {
          "base_uri": "https://localhost:8080/"
        },
        "id": "OuER0oDfP73f",
        "outputId": "cd83590d-974a-40c4-90a1-327a8d624026"
      },
      "execution_count": null,
      "outputs": [
        {
          "output_type": "stream",
          "name": "stdout",
          "text": [
            "<class 'tuple'> <class 'tuple'> <class 'tuple'>\n"
          ]
        }
      ]
    },
    {
      "cell_type": "code",
      "source": [
        "# 리스트, 튜플 변환\n",
        "data1 = [1,2,3,4,5]\n",
        "data2 = (1,2,3,4,5)\n",
        "v1 = tuple(data1)\n",
        "v2 = list(data2)\n",
        "print(v1,v2)"
      ],
      "metadata": {
        "colab": {
          "base_uri": "https://localhost:8080/"
        },
        "id": "jZcjq36RQe4g",
        "outputId": "4121b0d8-64cf-416f-8edd-ebfb178fa1f0"
      },
      "execution_count": null,
      "outputs": [
        {
          "output_type": "stream",
          "name": "stdout",
          "text": [
            "(1, 2, 3, 4, 5) [1, 2, 3, 4, 5]\n"
          ]
        }
      ]
    },
    {
      "cell_type": "code",
      "source": [
        "# 튜플은 항목 수정 관련 함수는 사용할 수 없으며 나머지는 리스트와 유사하다.\n",
        "# 대입, remove, pop, del, append, extend, sort 사용할 수 없다.\n",
        "# count, index, len 등은 사용 가능 \n",
        "a=(\"python\",\"C++\",\"JAVA\",\"GO\")\n",
        "b=(4,2,5,1,3)\n",
        "print(a[1:2])\n",
        "print(a[1:3])\n",
        "print(b[-3:-1])\n",
        "print(a.index(\"JAVA\"))\n",
        "print(a.count(\"C++\"))\n",
        "print(len(a))\n",
        "c=sorted(b)\n",
        "print(b)\n",
        "print(c)"
      ],
      "metadata": {
        "colab": {
          "base_uri": "https://localhost:8080/"
        },
        "id": "Twmz8rQxRJmQ",
        "outputId": "f8fb47e1-6c32-4335-f7c9-13638db6f19f"
      },
      "execution_count": null,
      "outputs": [
        {
          "output_type": "stream",
          "name": "stdout",
          "text": [
            "('C++',)\n",
            "('C++', 'JAVA')\n",
            "(5, 1)\n",
            "2\n",
            "1\n",
            "4\n",
            "(4, 2, 5, 1, 3)\n",
            "[1, 2, 3, 4, 5]\n"
          ]
        }
      ]
    },
    {
      "cell_type": "markdown",
      "source": [
        "3.3. 딕셔너리(Dictionary)\n",
        "\n",
        "3.3.1. 딕셔너리 선언 및 구조\n",
        "\n",
        "딕셔너리는 키(Key):값(Value)이 중괄호({}) 사이에 위치한 구조이다.\n",
        "- {key1:value1, key2:value2, key3:value3,....}\n",
        "- key값은 중복되지 않고 변하지 않는 값을 사용한다.\n",
        "\n",
        "**코드**"
      ],
      "metadata": {
        "id": "Ksmu6Q03SCe4"
      }
    },
    {
      "cell_type": "code",
      "source": [
        "d1={}\n",
        "d2={\"name\":\"홍길동\",\"email\":\"test1@abc.com\",\"phone\":\"010-1234-5678\"}\n",
        "d3=dict(name=\"홍길동\",email=\"test2@abc.com\",phone=\"010-2222-2222\")\n",
        "print(d2)\n",
        "print(d3)\n",
        "print(type(d1), type(d2),type(d3))"
      ],
      "metadata": {
        "colab": {
          "base_uri": "https://localhost:8080/"
        },
        "id": "5iXft439SboQ",
        "outputId": "aaad0ddf-8e5d-4e2d-fb78-a9e81439f142"
      },
      "execution_count": null,
      "outputs": [
        {
          "output_type": "stream",
          "name": "stdout",
          "text": [
            "{'name': '홍길동', 'email': 'test1@abc.com', 'phone': '010-1234-5678'}\n",
            "{'name': '홍길동', 'email': 'test2@abc.com', 'phone': '010-2222-2222'}\n",
            "<class 'dict'> <class 'dict'> <class 'dict'>\n"
          ]
        }
      ]
    },
    {
      "cell_type": "markdown",
      "source": [
        "3.3.2. 딕셔너리 추가/수정/삭제\n",
        "\n",
        "- 추가와 수정은 해당 키 값에 따라 키가 없으면 추가하고 있으면 수정한다.\n",
        "- 삭제는 del, clear 를 사용한다.\n",
        "\n",
        "**코드**\n"
      ],
      "metadata": {
        "id": "NbJr8UYLS8jX"
      }
    },
    {
      "cell_type": "code",
      "source": [
        "#딕셔너리 추가\n",
        "fruits={\"a\":\"apple\", \"b\":\"banana\"}\n",
        "fruits[\"c\"]=\"carrot\"\n",
        "print(fruits)"
      ],
      "metadata": {
        "id": "7e8XhxgpTVeo"
      },
      "execution_count": null,
      "outputs": []
    },
    {
      "cell_type": "code",
      "source": [
        "#딕셔너리 변경\n",
        "fruits={\"a\":\"apple\", \"b\":\"banana\"}\n",
        "fruits[\"b\"]=\"bluberry\"\n",
        "print(fruits)"
      ],
      "metadata": {
        "id": "X6Gan5jNTpWJ"
      },
      "execution_count": null,
      "outputs": []
    },
    {
      "cell_type": "code",
      "source": [
        "#딕셔너리 삭제\n",
        "fruits={\"a\":\"apple\", \"b\":\"banana\"}\n",
        "fruits[\"b\"]=\"bluberry\"\n",
        "print(fruits)"
      ],
      "metadata": {
        "colab": {
          "base_uri": "https://localhost:8080/"
        },
        "id": "Uo75kVt5TyQJ",
        "outputId": "8f7c9f6d-8315-4a23-9cbe-6c6211ebc570"
      },
      "execution_count": null,
      "outputs": [
        {
          "output_type": "stream",
          "name": "stdout",
          "text": [
            "{'a': 'apple'}\n"
          ]
        }
      ]
    },
    {
      "cell_type": "code",
      "source": [
        "#딕셔너리 전체 삭제\n",
        "fruits={\"a\":\"apple\", \"b\":\"banana\"}\n",
        "fruits.clear()\n",
        "print(fruits)"
      ],
      "metadata": {
        "colab": {
          "base_uri": "https://localhost:8080/"
        },
        "id": "ma0XRzssT56H",
        "outputId": "719012f4-b523-4cf7-e853-b60de860b597"
      },
      "execution_count": null,
      "outputs": [
        {
          "output_type": "stream",
          "name": "stdout",
          "text": [
            "{}\n"
          ]
        }
      ]
    },
    {
      "cell_type": "markdown",
      "source": [
        "3.3.3. 딕셔너리 검색\n",
        "\n",
        "- 딕셔너리는 index를 사용하지 않고 key 값을 검색할 때 in 을 사용한다.\n",
        "- value 값으로 검색하는 경우 values(), items()를 사용한다.\n",
        "\n",
        "**코드**"
      ],
      "metadata": {
        "id": "PjD9d16GUA6n"
      }
    },
    {
      "cell_type": "code",
      "source": [
        "fruits={\"a\":\"apple\", \"b\":\"banana\",\"c\":[\"coconut\",\"cherry\"]}\n",
        "print(\"b\" in fruits, \"banana\" in fruits)"
      ],
      "metadata": {
        "colab": {
          "base_uri": "https://localhost:8080/"
        },
        "id": "pub7n5VTUHtf",
        "outputId": "3ba419ce-96e6-4b85-be2c-bba507aee6c9"
      },
      "execution_count": null,
      "outputs": [
        {
          "output_type": "stream",
          "name": "stdout",
          "text": [
            "True False\n"
          ]
        }
      ]
    },
    {
      "cell_type": "code",
      "source": [
        "fruits={\"a\":\"apple\", \"b\":\"banana\",\"c\":\"cherry\"}\n",
        "print(fruits.keys(), type(fruits.keys()))\n",
        "print(fruits.values(), type(fruits.values()))\n",
        "print(fruits.items(), type(fruits.items()))"
      ],
      "metadata": {
        "colab": {
          "base_uri": "https://localhost:8080/"
        },
        "id": "vp9lcHgUUei_",
        "outputId": "14007f4f-cbe4-426e-cc21-3906bb1aa840"
      },
      "execution_count": null,
      "outputs": [
        {
          "output_type": "stream",
          "name": "stdout",
          "text": [
            "dict_keys(['a', 'b', 'c']) <class 'dict_keys'>\n",
            "dict_values(['apple', 'banana', 'cherry']) <class 'dict_values'>\n",
            "dict_items([('a', 'apple'), ('b', 'banana'), ('c', 'cherry')]) <class 'dict_items'>\n"
          ]
        }
      ]
    },
    {
      "cell_type": "code",
      "source": [
        "# 딕셔너리에서 \"banana\" 검색\n",
        "fruits={\"a\":\"apple\", \"b\":\"banana\",\"c\":\"cherry\"}\n",
        "print(\"banana\" in fruits.values())\n",
        "for k,v in fruits.items():\n",
        "  if v == \"banana\":\n",
        "    print(k,v)"
      ],
      "metadata": {
        "colab": {
          "base_uri": "https://localhost:8080/"
        },
        "id": "4vsmvLKqUxsv",
        "outputId": "e2ccac7e-65ae-4ea1-b772-eb389beecdf3"
      },
      "execution_count": null,
      "outputs": [
        {
          "output_type": "stream",
          "name": "stdout",
          "text": [
            "True\n",
            "b banana\n"
          ]
        }
      ]
    },
    {
      "cell_type": "markdown",
      "source": [
        "3.3.4. 딕셔너리 합치기\n",
        "\n",
        "두 개의 딕셔너리를 합칠 때는 update() 를 사용한다. 중복된 값이 있으면, 가장 마지막에 있는 값이 변경된다.\n",
        "\n",
        "**코드**"
      ],
      "metadata": {
        "id": "BqixhRFOVFRQ"
      }
    },
    {
      "cell_type": "code",
      "source": [
        "f1= {'a':'apple','b':'banana'}\n",
        "f2= {'b':'blueberry','c':'coconut'}\n",
        "f1.update(f2)\n",
        "print(f1)"
      ],
      "metadata": {
        "colab": {
          "base_uri": "https://localhost:8080/"
        },
        "id": "-kTcXhNbVNKo",
        "outputId": "730121df-3ba5-4214-f3be-7300ca09f29a"
      },
      "execution_count": null,
      "outputs": [
        {
          "output_type": "stream",
          "name": "stdout",
          "text": [
            "{'a': 'apple', 'b': 'blueberry', 'c': 'coconut'}\n"
          ]
        }
      ]
    },
    {
      "cell_type": "markdown",
      "source": [
        "3.3.5. 딕셔너리 정렬\n",
        "- 키를 기준으로 정렬 : sorted(data.keys()[, reverse=True])\n",
        "- 값을 기준으로 정렬 : sorted(data.values()[, reverse=True])\n",
        "\n",
        "**코드**"
      ],
      "metadata": {
        "id": "a4Weuuj-Vcbn"
      }
    },
    {
      "cell_type": "code",
      "source": [
        "# key 로 정렬\n",
        "data={\"d\":8,\"c\":5,\"a\":9,\"b\":2}\n",
        "d3 = sorted(data.keys(),reverse=True)\n",
        "print(type(d3))\n",
        "for k in d3:\n",
        "  print(k,data[k])"
      ],
      "metadata": {
        "colab": {
          "base_uri": "https://localhost:8080/"
        },
        "id": "0H3stsGcVvN4",
        "outputId": "8873cb25-4e64-4407-902b-bc87844804a1"
      },
      "execution_count": null,
      "outputs": [
        {
          "output_type": "stream",
          "name": "stdout",
          "text": [
            "<class 'list'>\n",
            "d 8\n",
            "c 5\n",
            "b 2\n",
            "a 9\n"
          ]
        }
      ]
    },
    {
      "cell_type": "code",
      "source": [
        "# value 로 정렬\n",
        "data={\"d\":8,\"c\":5,\"a\":9,\"b\":2}\n",
        "d2 = sorted(data.values())\n",
        "d3 = sorted(data.values(),reverse=True)\n",
        "print(type(data))\n",
        "for k in data.keys():\n",
        "  print(k,data[k])\n",
        "print(type(d2),type(d3))\n",
        "print(d2,d3)"
      ],
      "metadata": {
        "colab": {
          "base_uri": "https://localhost:8080/"
        },
        "id": "fRmWubSSWJ0P",
        "outputId": "6d3d13aa-cae0-444a-c8d8-b1c9fe9da31b"
      },
      "execution_count": null,
      "outputs": [
        {
          "output_type": "stream",
          "name": "stdout",
          "text": [
            "<class 'dict'>\n",
            "d 8\n",
            "c 5\n",
            "a 9\n",
            "b 2\n",
            "<class 'list'> <class 'list'>\n",
            "[2, 5, 8, 9] [9, 8, 5, 2]\n"
          ]
        }
      ]
    },
    {
      "cell_type": "code",
      "source": [
        "# items() 로 정렬\n",
        "data={\"d\":8,\"c\":5,\"a\":9,\"b\":2}\n",
        "d1 = sorted(data.items())\n",
        "d2 = sorted(data.items(),reverse=True)\n",
        "print(d1,d2,sep='\\n')"
      ],
      "metadata": {
        "colab": {
          "base_uri": "https://localhost:8080/"
        },
        "id": "uxHwbSthX6Vo",
        "outputId": "a47470e8-9d75-41de-e5df-b1f2a4df5b9e"
      },
      "execution_count": null,
      "outputs": [
        {
          "output_type": "stream",
          "name": "stdout",
          "text": [
            "[('a', 9), ('b', 2), ('c', 5), ('d', 8)]\n",
            "[('d', 8), ('c', 5), ('b', 2), ('a', 9)]\n"
          ]
        }
      ]
    },
    {
      "cell_type": "markdown",
      "source": [
        "# 함수"
      ],
      "metadata": {
        "id": "2EeBWUY5Yn3l"
      }
    },
    {
      "cell_type": "markdown",
      "source": [
        "4.1. 함수\n",
        "\n",
        "어떤 일을 수행하는 코드를 미리 정의해 놓은 것을 함수라고 한다.\n",
        "\n",
        "- 문자열 함수 : len,count,index,find,replace,upper,lower,title,lstrip,rstrip,split\n",
        "- 숫자 함수 : abs, pow, max, min, round, bin, oct, hex\n",
        "- math 라이브러리 : pi,e,trunc,factorial,degrees,radians,sin,cos,log10,log2,pow\n",
        "- randmon 라이브러리 : random,randint, randrange"
      ],
      "metadata": {
        "id": "I9q60QfSYqd9"
      }
    },
    {
      "cell_type": "markdown",
      "source": [
        "4.1.1. 문자열 함수\n",
        "\n",
        "**코드**"
      ],
      "metadata": {
        "id": "H0_VMN-BZd5Q"
      }
    },
    {
      "cell_type": "code",
      "source": [
        "engt=\"python programming\"\n",
        "kot=\"파이썬 프로그래밍\"\n",
        "pro=[\"OA\",\"Prog\",\"Multi\",\"Prog\"]\n",
        "print(\"len:\",len(engt),len(kot),len(pro))\n",
        "print(\"count:\",engt.count(\"p\"),pro.count(\"Prog\"))\n",
        "print(\"index:\", engt.index(\"h\"), pro.index(\"OA\"))\n",
        "print(\"find:\", engt.find(\"y\"),engt.find(\"z\"))\n"
      ],
      "metadata": {
        "colab": {
          "base_uri": "https://localhost:8080/"
        },
        "id": "_zGkKuFIZfeY",
        "outputId": "0823146e-819c-4ab8-e278-f07096ff889c"
      },
      "execution_count": null,
      "outputs": [
        {
          "output_type": "stream",
          "name": "stdout",
          "text": [
            "len: 18 9 4\n",
            "count: 2 2\n",
            "index: 3 0\n",
            "find: 1 -1\n"
          ]
        }
      ]
    },
    {
      "cell_type": "code",
      "source": [
        "prog=\"java c++ PythOn html5\"\n",
        "print(prog.upper())\n",
        "print(prog.lower())\n",
        "print(prog.title())\n",
        "print(prog.replace(\"c++\",\"GO\"))\n",
        "print(prog)"
      ],
      "metadata": {
        "colab": {
          "base_uri": "https://localhost:8080/"
        },
        "id": "rPhjyE1Cjx7G",
        "outputId": "8b5b7215-124b-46a9-f509-7e92791821fb"
      },
      "execution_count": null,
      "outputs": [
        {
          "output_type": "stream",
          "name": "stdout",
          "text": [
            "JAVA C++ PYTHON HTML5\n",
            "java c++ python html5\n",
            "Java C++ Python Html5\n",
            "java GO PythOn html5\n",
            "java c++ PythOn html5\n"
          ]
        }
      ]
    },
    {
      "cell_type": "code",
      "source": [
        "# 문자연결\n",
        "text=\"123abc가나다\"\n",
        "prog=[\"java\",\"c++\",\"python\",\"html5\"]\n",
        "print(\"-\".join(text))\n",
        "print(\", \".join(prog))"
      ],
      "metadata": {
        "colab": {
          "base_uri": "https://localhost:8080/"
        },
        "id": "vXCLGqmzkF7G",
        "outputId": "8f1e5f92-6038-478a-b5ab-f7b2ec9c682f"
      },
      "execution_count": null,
      "outputs": [
        {
          "output_type": "stream",
          "name": "stdout",
          "text": [
            "1-2-3-a-b-c-가-나-다\n",
            "java, c++, python, html5\n"
          ]
        }
      ]
    },
    {
      "cell_type": "code",
      "source": [
        "#문자분리\n",
        "t1='java py html'\n",
        "t2='java/py/html'\n",
        "print(t1.split())  # 공백 분리\n",
        "print(t2.split('/')) # '/' 기준 분리"
      ],
      "metadata": {
        "colab": {
          "base_uri": "https://localhost:8080/"
        },
        "id": "lfEjZVkhkW2e",
        "outputId": "a3363a2b-a10e-4ba2-a218-e027a01af626"
      },
      "execution_count": null,
      "outputs": [
        {
          "output_type": "stream",
          "name": "stdout",
          "text": [
            "['java', 'py', 'html']\n",
            "['java', 'py', 'html']\n"
          ]
        }
      ]
    },
    {
      "cell_type": "code",
      "source": [
        "# 공백제거\n",
        "t=\"   korea   123   \"\n",
        "print(len(t),t)\n",
        "print(len(t.lstrip()),t.lstrip())\n",
        "print(len(t.rstrip()),t.rstrip())\n",
        "print(len(t.strip()),t.strip())"
      ],
      "metadata": {
        "colab": {
          "base_uri": "https://localhost:8080/"
        },
        "id": "1p4vbr9fksWn",
        "outputId": "1a54099b-e505-4e97-f9d8-cc09ef7806d6"
      },
      "execution_count": null,
      "outputs": [
        {
          "output_type": "stream",
          "name": "stdout",
          "text": [
            "17    korea   123   \n",
            "14 korea   123   \n",
            "14    korea   123\n",
            "11 korea   123\n"
          ]
        }
      ]
    },
    {
      "cell_type": "markdown",
      "source": [
        "4.1.2. 숫자 함수\n",
        "\n",
        "파이썬에 내장된 수학 관련 함수\n",
        "- abs : 절대값\n",
        "- pow : 제곱\n",
        "- max : 최댓값\n",
        "- min : 최소값\n",
        "- round : 반올림\n",
        "- round(a,b) : 소수 b 자리에서 반올림"
      ],
      "metadata": {
        "id": "d-ZcxSR0lGyt"
      }
    },
    {
      "cell_type": "code",
      "source": [
        "print(abs(-3))\n",
        "print(pow(3,4))\n",
        "print(max(5,2,8,3,4))\n",
        "print(min(5,2,8,3,4,))\n",
        "print(round(3.147))\n",
        "print(round(3.547))\n",
        "print(round(3.147,2))\n"
      ],
      "metadata": {
        "id": "ni3MgSctlbN9"
      },
      "execution_count": null,
      "outputs": []
    },
    {
      "cell_type": "code",
      "source": [
        "# 진법\n",
        "x=35\n",
        "b,o,h = bin(x),oct(x),hex(x)\n",
        "print(b,o,h)\n",
        "print(type(b),type(o),type(h))"
      ],
      "metadata": {
        "colab": {
          "base_uri": "https://localhost:8080/"
        },
        "id": "xmkuRTMJlxHl",
        "outputId": "df096eab-1869-4ca7-c34e-3a3defbe9f3c"
      },
      "execution_count": null,
      "outputs": [
        {
          "output_type": "stream",
          "name": "stdout",
          "text": [
            "0b100011 0o43 0x23\n",
            "<class 'str'> <class 'str'> <class 'str'>\n"
          ]
        }
      ]
    },
    {
      "cell_type": "code",
      "source": [
        "# 스트링을 진수로 변환, 진수 기호 생략 가능\n",
        "print(int('0b11',2),int('11',2))\n",
        "print(int('0o11',8),int('11',8))\n",
        "print(int('0x11',16),int('11',16))"
      ],
      "metadata": {
        "colab": {
          "base_uri": "https://localhost:8080/"
        },
        "id": "de4WRdehmJH2",
        "outputId": "463d11e3-19ff-4d22-a9ec-0582de7d804e"
      },
      "execution_count": null,
      "outputs": [
        {
          "output_type": "stream",
          "name": "stdout",
          "text": [
            "3 3\n",
            "9 9\n",
            "17 17\n"
          ]
        }
      ]
    },
    {
      "cell_type": "code",
      "source": [
        "#math 라이브러리\n",
        "import math\n",
        "math.pi\n",
        "print(math.pi)\n",
        "print(math.e)\n",
        "print(math.trunc(1.78))\n",
        "print(math.factorial(5))\n",
        "print(math.degrees(math.pi))\n",
        "print(math.radians(180))\n",
        "print(math.sin(math.pi/2))\n",
        "print(math.cos(math.pi/2))\n",
        "print(math.log10(100))\n",
        "print(math.log2(8))\n",
        "print(math.pow(2,4))"
      ],
      "metadata": {
        "colab": {
          "base_uri": "https://localhost:8080/"
        },
        "id": "AtGJWFgUmgtl",
        "outputId": "1571504b-49db-467e-98da-f64bded77823"
      },
      "execution_count": null,
      "outputs": [
        {
          "output_type": "stream",
          "name": "stdout",
          "text": [
            "3.141592653589793\n",
            "2.718281828459045\n",
            "1\n",
            "120\n",
            "180.0\n",
            "3.141592653589793\n",
            "1.0\n",
            "6.123233995736766e-17\n",
            "2.0\n",
            "3.0\n",
            "16.0\n"
          ]
        }
      ]
    },
    {
      "cell_type": "code",
      "source": [
        "# random\n",
        "import random as r\n",
        "print(r.random())\n",
        "print(r.randint(10,20))\n",
        "print(r.randrange(10,20))"
      ],
      "metadata": {
        "colab": {
          "base_uri": "https://localhost:8080/"
        },
        "id": "VWJ2c-M2rftt",
        "outputId": "0e8cf880-3206-4e47-a1dc-75ce7b983601"
      },
      "execution_count": null,
      "outputs": [
        {
          "output_type": "stream",
          "name": "stdout",
          "text": [
            "0.0349996454307725\n",
            "15\n",
            "16\n"
          ]
        }
      ]
    },
    {
      "cell_type": "markdown",
      "source": [
        "4.1.3. 날짜 함수\n",
        "\n",
        "1970년 1월 1일 0시 0분 이후 경과한 시간을 초단위로 반환한다. 시간대는 표준시를 사용한다.\n",
        "\n",
        "**코드**"
      ],
      "metadata": {
        "id": "4G8OA2sgrz2t"
      }
    },
    {
      "cell_type": "code",
      "source": [
        "import time\n",
        "print(time.time())\n",
        "print(time.localtime(time.time()))"
      ],
      "metadata": {
        "colab": {
          "base_uri": "https://localhost:8080/"
        },
        "id": "BS-ySDapr8p9",
        "outputId": "cc25a0ba-f633-4d44-ea6a-c92098582d92"
      },
      "execution_count": null,
      "outputs": [
        {
          "output_type": "stream",
          "name": "stdout",
          "text": [
            "1660721042.1285033\n",
            "time.struct_time(tm_year=2022, tm_mon=8, tm_mday=17, tm_hour=7, tm_min=24, tm_sec=2, tm_wday=2, tm_yday=229, tm_isdst=0)\n"
          ]
        }
      ]
    },
    {
      "cell_type": "code",
      "source": [
        "import time\n",
        "t=time.localtime(time.time())\n",
        "print(f'{t.tm_year}-{t.tm_mon}-{t.tm_mday}')\n",
        "print(time.strftime('%Y-%m-%d %H %M %S',t))"
      ],
      "metadata": {
        "colab": {
          "base_uri": "https://localhost:8080/"
        },
        "id": "UPycAOs0sQKl",
        "outputId": "ccfab15e-5f6f-494e-a2d1-8706b08da3ea"
      },
      "execution_count": null,
      "outputs": [
        {
          "output_type": "stream",
          "name": "stdout",
          "text": [
            "2022-8-17\n",
            "2022-08-17 07 27 48\n"
          ]
        }
      ]
    },
    {
      "cell_type": "code",
      "source": [
        "#datetime\n",
        "import datetime as dt\n",
        "now = dt.datetime.today()\n",
        "print(dt.datetime.today())\n",
        "print(dt.datetime.now())\n",
        "print(now.year, now.month, now.day)\n",
        "print(now.hour, now.minute, now.second)\n",
        "print(now.strftime('%Y-%m-%d'))\n",
        "print(now.strftime('%H-%M-%S'))\n"
      ],
      "metadata": {
        "colab": {
          "base_uri": "https://localhost:8080/"
        },
        "id": "LyKkcCWYs7-l",
        "outputId": "cba68f0e-d7b2-456c-c8a1-5376ee3bbe92"
      },
      "execution_count": null,
      "outputs": [
        {
          "output_type": "stream",
          "name": "stdout",
          "text": [
            "2022-08-17 07:29:44.917921\n",
            "2022-08-17 07:29:44.921711\n",
            "2022 8 17\n",
            "7 29 44\n",
            "2022-08-17\n",
            "07-29-44\n"
          ]
        }
      ]
    },
    {
      "cell_type": "markdown",
      "source": [
        "4.2. 사용자 정의 함수\n",
        "\n",
        "def function(parameter):\n",
        "> #작성 코드\n",
        "\n",
        "\n",
        "\n",
        "- function은 사용자가 지정한다.\n",
        "- parameter는 인수이며, 여러 개인 경우 쉼표(,)로 구분한다."
      ],
      "metadata": {
        "id": "Lu-T3VFetWhd"
      }
    },
    {
      "cell_type": "code",
      "source": [
        "def calc(a,b):\n",
        "  return a+b\n",
        "print(calc(3,2))"
      ],
      "metadata": {
        "colab": {
          "base_uri": "https://localhost:8080/"
        },
        "id": "jqFABx-Ptl0d",
        "outputId": "15a12ff9-5f7a-40a7-d55b-4962a0004d34"
      },
      "execution_count": null,
      "outputs": [
        {
          "output_type": "stream",
          "name": "stdout",
          "text": [
            "5\n"
          ]
        }
      ]
    },
    {
      "cell_type": "code",
      "source": [
        "def data_sum(*n):\n",
        "  s=0\n",
        "  for i in n:\n",
        "    s+=i\n",
        "  return s\n",
        "print(data_sum(1,2,3,4,5,6,7,8,9,10))"
      ],
      "metadata": {
        "colab": {
          "base_uri": "https://localhost:8080/"
        },
        "id": "4in0wp1quAil",
        "outputId": "d74acbf5-6f3f-448a-af3f-01792a23d170"
      },
      "execution_count": null,
      "outputs": [
        {
          "output_type": "stream",
          "name": "stdout",
          "text": [
            "55\n"
          ]
        }
      ]
    },
    {
      "cell_type": "markdown",
      "source": [
        "4.3. 재귀함수\n",
        "\n",
        "함수에서 자기 자신을 호출(recursive call)하는 방식\n",
        "\n",
        "재귀함수로 factorial 구하기\n",
        "\n",
        "**코드**"
      ],
      "metadata": {
        "id": "Sxwojuk8uSI9"
      }
    },
    {
      "cell_type": "code",
      "source": [
        "#factorial\n",
        "def factorial(n):\n",
        "  if n == 1:\n",
        "    return 1\n",
        "  return n*factorial(n-1)\n",
        "print(factorial(5))"
      ],
      "metadata": {
        "colab": {
          "base_uri": "https://localhost:8080/"
        },
        "id": "o1c45n92uce9",
        "outputId": "4f4cbd7a-2e5f-4f5c-8051-f6371b370e06"
      },
      "execution_count": null,
      "outputs": [
        {
          "output_type": "stream",
          "name": "stdout",
          "text": [
            "120\n"
          ]
        }
      ]
    },
    {
      "cell_type": "markdown",
      "source": [
        "Quiz 3. 하노이 타워\n",
        "\n",
        "3개의 장대가 있고 첫 번째 장대에는 크기가 서로 다른 3개의 원판이 있다.\n",
        "A장대에 있는 원반을 다음 규칙에 따라 C로 이동시키려 한다.\n",
        "- 한 번에 한 개의 원판만 다른 장대로 이동시킬 수 있다.\n",
        "- 위에 올려 놓은 원판은 아래 원판보다 작아야 한다.\n",
        "\n",
        "원판의 개수를 입력하면 원판의 이동 회수를 첫 줄에 출력하고, 다음 줄부터는 이동 과정을 출력하는 프로그램을 작성하시오.\n",
        "\n",
        "**코드**"
      ],
      "metadata": {
        "id": "JdIz8aKEjI6A"
      }
    },
    {
      "cell_type": "code",
      "source": [
        "def hanoi(n,a,b,c):\n",
        "  if n==1:\n",
        "    print(f'{n}번 원반 : {a} -> {c}')\n",
        "    return\n",
        "  hanoi(n-1,a,c,b)\n",
        "  print(f'{n}번 원반: {a}->{c}')\n",
        "  hanoi(n-1,b,a,c)\n",
        "\n",
        "n = int(input())\n",
        "hanoi(n,'A','B','C')"
      ],
      "metadata": {
        "colab": {
          "base_uri": "https://localhost:8080/"
        },
        "id": "W7DsFD_OVW-N",
        "outputId": "98a85e81-9d38-4747-80ee-f1b230bb88d1"
      },
      "execution_count": null,
      "outputs": [
        {
          "output_type": "stream",
          "name": "stdout",
          "text": [
            "3\n",
            "1번 원반 : A -> C\n",
            "2번 원반: A->B\n",
            "1번 원반 : C -> B\n",
            "3번 원반: A->C\n",
            "1번 원반 : B -> A\n",
            "2번 원반: B->C\n",
            "1번 원반 : A -> C\n"
          ]
        }
      ]
    },
    {
      "cell_type": "markdown",
      "source": [
        "3 \n",
        "\n",
        "hanoi(3,'A','B','C')\n",
        "    hanoi(2,'A','C','B')\n",
        "       hanoi(1,'A','B','C')\n",
        "           1번 원반 : A -> C\n",
        "       2번 원반 : A -> B\n",
        "       hanoi(1,'C','A','B')\n",
        "           1번 원반: C->B\n",
        "    3번 원반 : A-> C\n",
        "    hanoi(2,'B','A','C')\n",
        "       hanoi(1,'B','C','A')\n",
        "          1번 원반 : B -> A\n",
        "       2번 원반 : B -> C\n",
        "       hanoi(1,'A','B','C')\n",
        "          1번 원반 : A -> C\n",
        "\n",
        "\n",
        "\n"
      ],
      "metadata": {
        "id": "mncu6xIZvGsN"
      }
    }
  ]
}